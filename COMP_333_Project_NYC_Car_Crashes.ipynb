{
  "nbformat": 4,
  "nbformat_minor": 0,
  "metadata": {
    "colab": {
      "provenance": [],
      "authorship_tag": "ABX9TyNohThTFAwt1fijV4UR7Lcr",
      "include_colab_link": true
    },
    "kernelspec": {
      "name": "python3",
      "display_name": "Python 3"
    },
    "language_info": {
      "name": "python"
    }
  },
  "cells": [
    {
      "cell_type": "markdown",
      "metadata": {
        "id": "view-in-github",
        "colab_type": "text"
      },
      "source": [
        "<a href=\"https://colab.research.google.com/github/tonyphan132/COMP352-A2/blob/master/COMP_333_Project_NYC_Car_Crashes.ipynb\" target=\"_parent\"><img src=\"https://colab.research.google.com/assets/colab-badge.svg\" alt=\"Open In Colab\"/></a>"
      ]
    },
    {
      "cell_type": "code",
      "execution_count": 14,
      "metadata": {
        "colab": {
          "base_uri": "https://localhost:8080/"
        },
        "id": "mDSn6Kb8eF4t",
        "outputId": "8658faf3-0f90-451b-da02-e618e794230a"
      },
      "outputs": [
        {
          "output_type": "stream",
          "name": "stdout",
          "text": [
            "Drive already mounted at /content/drive; to attempt to forcibly remount, call drive.mount(\"/content/drive\", force_remount=True).\n"
          ]
        },
        {
          "output_type": "stream",
          "name": "stderr",
          "text": [
            "<ipython-input-14-20e56763e5db>:11: DtypeWarning: Columns (3) have mixed types. Specify dtype option on import or set low_memory=False.\n",
            "  dataFrame = pd.read_csv(common_folder_path + \"Crashes.csv\")\n"
          ]
        }
      ],
      "source": [
        "#Importing libraries\n",
        "import pandas as pd\n",
        "import numpy as np\n",
        "import sqlite3\n",
        "from google.colab import drive\n",
        "from geopy.geocoders import Nominatim\n",
        "geolocator = Nominatim(user_agent=\"nyc_borough_geocoder\")\n",
        "drive.mount(\"/content/drive\")\n",
        "common_folder_path = '/content/drive/My Drive/COMP-333-Project/'\n",
        "\n",
        "dataFrame = pd.read_csv(common_folder_path + \"Crashes.csv\")"
      ]
    },
    {
      "cell_type": "code",
      "source": [
        "print(len(dataFrame))"
      ],
      "metadata": {
        "colab": {
          "base_uri": "https://localhost:8080/"
        },
        "id": "CQU2_4m4lrw1",
        "outputId": "c5c33ff1-2bb5-404e-d38a-fa7f04c4ff42"
      },
      "execution_count": null,
      "outputs": [
        {
          "output_type": "stream",
          "name": "stdout",
          "text": [
            "2127006\n"
          ]
        }
      ]
    },
    {
      "cell_type": "code",
      "source": [
        "\n",
        "count_manhattan = len(dataFrame[dataFrame[\"BOROUGH\"] == \"MANHATTAN\"])\n",
        "count_brooklyn = len(dataFrame[dataFrame[\"BOROUGH\"] == \"BROOKLYN\"])\n",
        "count_queens = len(dataFrame[dataFrame[\"BOROUGH\"] == \"QUEENS\"])\n",
        "count_bronx = len(dataFrame[dataFrame[\"BOROUGH\"] == \"BRONX\"])\n",
        "count_statenisland = len(dataFrame[dataFrame[\"BOROUGH\"] == \"STATEN ISLAND\"])\n",
        "nan_count = len(dataFrame[dataFrame[\"BOROUGH\"].isna()])\n",
        "\n",
        "print(count_manhattan + count_brooklyn + count_queens + count_bronx + count_statenisland + nan_count - len(dataFrame))\n"
      ],
      "metadata": {
        "id": "CX9XUKoal1Ct",
        "colab": {
          "base_uri": "https://localhost:8080/"
        },
        "outputId": "970f9146-dbb7-4f74-c4cd-b676dee5f22d"
      },
      "execution_count": 12,
      "outputs": [
        {
          "output_type": "stream",
          "name": "stdout",
          "text": [
            "0\n"
          ]
        }
      ]
    },
    {
      "cell_type": "code",
      "source": [
        "def geocode_borough(lat, lon):\n",
        "    try:\n",
        "        location = geolocator.reverse((lat, lon), language='en', exactly_one=True)\n",
        "        if location:\n",
        "            # Extract the borough from the address\n",
        "            address = location.raw.get('address', {})\n",
        "            borough = address.get('borough', None)\n",
        "            if not borough:  # If borough is None, try to use the suburb or neighbourhood\n",
        "                borough = address.get('suburb', address.get('neighbourhood', None))\n",
        "            return borough\n",
        "        else:\n",
        "            return None\n",
        "    except Exception as e:\n",
        "        print(f\"Error geocoding ({lat}, {lon}): {e}\")\n",
        "        return None\n",
        "\n",
        "\n",
        "\n",
        "# Show the results\n",
        "# print(test_df)"
      ],
      "metadata": {
        "id": "OyzYrvAJl1F5"
      },
      "execution_count": 19,
      "outputs": []
    },
    {
      "cell_type": "code",
      "source": [
        "filtered_df = dataFrame.dropna(subset=[\"BOROUGH\", \"LATITUDE\", \"LONGITUDE\"])\n",
        "random_borough_entries = filtered_df[[\"BOROUGH\", \"LATITUDE\", \"LONGITUDE\"]].sample(n=10)\n",
        "\n",
        "print(random_borough_entries)"
      ],
      "metadata": {
        "colab": {
          "base_uri": "https://localhost:8080/"
        },
        "id": "y1iBUL4Ms2pn",
        "outputId": "e221c5f4-4b3e-42e7-cc50-d6a81fee3cc6"
      },
      "execution_count": 22,
      "outputs": [
        {
          "output_type": "stream",
          "name": "stdout",
          "text": [
            "           BOROUGH   LATITUDE  LONGITUDE\n",
            "1766217  MANHATTAN  40.747009 -73.977187\n",
            "404769      QUEENS  40.748463 -73.827860\n",
            "635351   MANHATTAN  40.762860 -73.989410\n",
            "1094684      BRONX  40.847908 -73.903570\n",
            "1086389   BROOKLYN  40.655773 -73.944410\n",
            "754449       BRONX  40.842990 -73.826250\n",
            "1312084   BROOKLYN  40.685324 -73.980703\n",
            "956693      QUEENS  40.716625 -73.904625\n",
            "1465161   BROOKLYN  40.654349 -73.921693\n",
            "474486       BRONX  40.882633 -73.902190\n"
          ]
        }
      ]
    },
    {
      "cell_type": "code",
      "source": [
        "def test_geocode_function(df):\n",
        "    results = []\n",
        "    for index, row in df.iterrows():\n",
        "        lat = row['LATITUDE']\n",
        "        lon = row['LONGITUDE']\n",
        "        borough = geocode_borough(lat, lon)\n",
        "        results.append(borough)\n",
        "    return results\n",
        "results = test_geocode_function(random_borough_entries)\n",
        "actual_results = random_borough_entries[[\"BOROUGH\"]]\n",
        "comparison = pd.DataFrame({\n",
        "    'Geocoded Borough': results,\n",
        "    'Actual Borough': actual_results['BOROUGH']\n",
        "})\n",
        "print(comparison)"
      ],
      "metadata": {
        "colab": {
          "base_uri": "https://localhost:8080/"
        },
        "id": "IczpfAlfs7aj",
        "outputId": "f96c44de-a9fb-401b-dda3-ffc039ced2a6"
      },
      "execution_count": 27,
      "outputs": [
        {
          "output_type": "stream",
          "name": "stdout",
          "text": [
            "Location for (40.747009, -73.9771875): {'place_id': 331633083, 'licence': 'Data © OpenStreetMap contributors, ODbL 1.0. http://osm.org/copyright', 'osm_type': 'node', 'osm_id': 2710839372, 'lat': '40.7467955', 'lon': '-73.9769299', 'class': 'place', 'type': 'house', 'place_rank': 30, 'importance': 9.175936522464359e-05, 'addresstype': 'place', 'name': '', 'display_name': '200, East 36th Street, Manhattan Community Board 6, Manhattan, New York County, New York, 10016, United States', 'address': {'house_number': '200', 'road': 'East 36th Street', 'neighbourhood': 'Manhattan Community Board 6', 'suburb': 'Manhattan', 'county': 'New York County', 'city': 'New York', 'state': 'New York', 'ISO3166-2-lvl4': 'US-NY', 'postcode': '10016', 'country': 'United States', 'country_code': 'us'}, 'boundingbox': ['40.7467455', '40.7468455', '-73.9769799', '-73.9768799']}\n",
            "Location for (40.748463, -73.82786): {'place_id': 332100217, 'licence': 'Data © OpenStreetMap contributors, ODbL 1.0. http://osm.org/copyright', 'osm_type': 'way', 'osm_id': 284628171, 'lat': '40.7484698', 'lon': '-73.82809421795102', 'class': 'building', 'type': 'yes', 'place_rank': 30, 'importance': 9.175936522464359e-05, 'addresstype': 'building', 'name': '', 'display_name': '55-48, 137th Street, Queens, Queens County, New York, 11355, United States', 'address': {'house_number': '55-48', 'road': '137th Street', 'suburb': 'Queens', 'county': 'Queens County', 'city': 'New York', 'state': 'New York', 'ISO3166-2-lvl4': 'US-NY', 'postcode': '11355', 'country': 'United States', 'country_code': 'us'}, 'boundingbox': ['40.7484380', '40.7485310', '-73.8282157', '-73.8279978']}\n",
            "Location for (40.76286, -73.98941): {'place_id': 330359554, 'licence': 'Data © OpenStreetMap contributors, ODbL 1.0. http://osm.org/copyright', 'osm_type': 'node', 'osm_id': 2709931384, 'lat': '40.7628843', 'lon': '-73.9897026', 'class': 'place', 'type': 'house', 'place_rank': 30, 'importance': 9.175936522464359e-05, 'addresstype': 'place', 'name': '', 'display_name': '400, West 49th Street, Clinton, Manhattan Community Board 4, Manhattan, New York County, New York, 10019, United States', 'address': {'house_number': '400', 'road': 'West 49th Street', 'neighbourhood': 'Clinton', 'suburb': 'Manhattan', 'county': 'New York County', 'city': 'New York', 'state': 'New York', 'ISO3166-2-lvl4': 'US-NY', 'postcode': '10019', 'country': 'United States', 'country_code': 'us'}, 'boundingbox': ['40.7628343', '40.7629343', '-73.9897526', '-73.9896526']}\n",
            "Location for (40.847908, -73.90357): {'place_id': 332589404, 'licence': 'Data © OpenStreetMap contributors, ODbL 1.0. http://osm.org/copyright', 'osm_type': 'node', 'osm_id': 2807350921, 'lat': '40.8480525', 'lon': '-73.9037966', 'class': 'place', 'type': 'house', 'place_rank': 30, 'importance': 9.175936522464359e-05, 'addresstype': 'place', 'name': '', 'display_name': '285, Mount Hope Place, Tremont, The Bronx, Bronx County, New York, 10457, United States', 'address': {'house_number': '285', 'road': 'Mount Hope Place', 'neighbourhood': 'Tremont', 'suburb': 'The Bronx', 'city_district': 'Bronx County', 'city': 'New York', 'state': 'New York', 'ISO3166-2-lvl4': 'US-NY', 'postcode': '10457', 'country': 'United States', 'country_code': 'us'}, 'boundingbox': ['40.8480025', '40.8481025', '-73.9038466', '-73.9037466']}\n",
            "Location for (40.655773, -73.94441): {'place_id': 331064701, 'licence': 'Data © OpenStreetMap contributors, ODbL 1.0. http://osm.org/copyright', 'osm_type': 'way', 'osm_id': 561823611, 'lat': '40.6564684', 'lon': '-73.9436744942843', 'class': 'amenity', 'type': 'hospital', 'place_rank': 30, 'importance': 0.3523734535646894, 'addresstype': 'amenity', 'name': 'Kings County Hospital Center', 'display_name': 'Kings County Hospital Center, 451, Clarkson Avenue, Brooklyn Community District 17, Brooklyn, Kings County, New York, 11203, United States', 'address': {'amenity': 'Kings County Hospital Center', 'house_number': '451', 'road': 'Clarkson Avenue', 'neighbourhood': 'Brooklyn Community District 17', 'suburb': 'Brooklyn', 'city_district': 'Kings County', 'city': 'New York', 'state': 'New York', 'ISO3166-2-lvl4': 'US-NY', 'postcode': '11203', 'country': 'United States', 'country_code': 'us'}, 'boundingbox': ['40.6557290', '40.6575570', '-73.9472262', '-73.9401784']}\n",
            "Location for (40.84299, -73.82625): {'place_id': 332207981, 'licence': 'Data © OpenStreetMap contributors, ODbL 1.0. http://osm.org/copyright', 'osm_type': 'way', 'osm_id': 282145393, 'lat': '40.842779', 'lon': '-73.82648805', 'class': 'building', 'type': 'yes', 'place_rank': 30, 'importance': 9.175936522464359e-05, 'addresstype': 'building', 'name': '', 'display_name': '3343, Bruckner Boulevard, Spencer Estates, The Bronx, Bronx County, New York, 10461, United States', 'address': {'house_number': '3343', 'road': 'Bruckner Boulevard', 'neighbourhood': 'Spencer Estates', 'suburb': 'The Bronx', 'city_district': 'Bronx County', 'city': 'New York', 'state': 'New York', 'ISO3166-2-lvl4': 'US-NY', 'postcode': '10461', 'country': 'United States', 'country_code': 'us'}, 'boundingbox': ['40.8427436', '40.8428144', '-73.8265967', '-73.8263794']}\n",
            "Location for (40.6853239, -73.9807025): {'place_id': 330198467, 'licence': 'Data © OpenStreetMap contributors, ODbL 1.0. http://osm.org/copyright', 'osm_type': 'node', 'osm_id': 5905417710, 'lat': '40.6855576', 'lon': '-73.9807166', 'class': 'amenity', 'type': 'theatre', 'place_rank': 30, 'importance': 9.175936522464359e-05, 'addresstype': 'amenity', 'name': 'Roulette', 'display_name': 'Roulette, 509, Atlantic Avenue, Boerum Hill, Brooklyn, Kings County, New York, 11217, United States', 'address': {'amenity': 'Roulette', 'house_number': '509', 'road': 'Atlantic Avenue', 'neighbourhood': 'Boerum Hill', 'suburb': 'Brooklyn', 'city_district': 'Kings County', 'city': 'New York', 'state': 'New York', 'ISO3166-2-lvl4': 'US-NY', 'postcode': '11217', 'country': 'United States', 'country_code': 'us'}, 'boundingbox': ['40.6855076', '40.6856076', '-73.9807666', '-73.9806666']}\n",
            "Location for (40.716625, -73.904625): {'place_id': 332223750, 'licence': 'Data © OpenStreetMap contributors, ODbL 1.0. http://osm.org/copyright', 'osm_type': 'way', 'osm_id': 280160948, 'lat': '40.716757', 'lon': '-73.90515029454856', 'class': 'building', 'type': 'yes', 'place_rank': 30, 'importance': 9.175936522464359e-05, 'addresstype': 'building', 'name': '', 'display_name': '60-27, 60th Avenue, Queens, Queens County, New York, 11378, United States', 'address': {'house_number': '60-27', 'road': '60th Avenue', 'suburb': 'Queens', 'county': 'Queens County', 'city': 'New York', 'state': 'New York', 'ISO3166-2-lvl4': 'US-NY', 'postcode': '11378', 'country': 'United States', 'country_code': 'us'}, 'boundingbox': ['40.7166958', '40.7168183', '-73.9051980', '-73.9051026']}\n",
            "Location for (40.6543488, -73.9216926): {'place_id': 332135059, 'licence': 'Data © OpenStreetMap contributors, ODbL 1.0. http://osm.org/copyright', 'osm_type': 'way', 'osm_id': 250173693, 'lat': '40.6540527', 'lon': '-73.92087486387103', 'class': 'building', 'type': 'yes', 'place_rank': 30, 'importance': 9.175936522464359e-05, 'addresstype': 'building', 'name': '', 'display_name': '980, Linden Boulevard, Brooklyn Community District 17, Brooklyn, Kings County, New York, 11236, United States', 'address': {'house_number': '980', 'road': 'Linden Boulevard', 'neighbourhood': 'Brooklyn Community District 17', 'suburb': 'Brooklyn', 'city_district': 'Kings County', 'city': 'New York', 'state': 'New York', 'ISO3166-2-lvl4': 'US-NY', 'postcode': '11236', 'country': 'United States', 'country_code': 'us'}, 'boundingbox': ['40.6539666', '40.6541386', '-73.9209620', '-73.9207576']}\n",
            "Location for (40.882633, -73.90219): {'place_id': 332956060, 'licence': 'Data © OpenStreetMap contributors, ODbL 1.0. http://osm.org/copyright', 'osm_type': 'way', 'osm_id': 276414629, 'lat': '40.882973250000006', 'lon': '-73.90248263946185', 'class': 'building', 'type': 'yes', 'place_rank': 30, 'importance': 9.175936522464359e-05, 'addresstype': 'building', 'name': '', 'display_name': '5731, Broadway, Kingsbridge, The Bronx, Bronx County, New York, 10463, United States', 'address': {'house_number': '5731', 'road': 'Broadway', 'neighbourhood': 'Kingsbridge', 'suburb': 'The Bronx', 'city_district': 'Bronx County', 'city': 'New York', 'state': 'New York', 'ISO3166-2-lvl4': 'US-NY', 'postcode': '10463', 'country': 'United States', 'country_code': 'us'}, 'boundingbox': ['40.8827045', '40.8832270', '-73.9028648', '-73.9020984']}\n",
            "        Geocoded Borough Actual Borough\n",
            "1766217        Manhattan      MANHATTAN\n",
            "404769            Queens         QUEENS\n",
            "635351         Manhattan      MANHATTAN\n",
            "1094684        The Bronx          BRONX\n",
            "1086389         Brooklyn       BROOKLYN\n",
            "754449         The Bronx          BRONX\n",
            "1312084         Brooklyn       BROOKLYN\n",
            "956693            Queens         QUEENS\n",
            "1465161         Brooklyn       BROOKLYN\n",
            "474486         The Bronx          BRONX\n"
          ]
        }
      ]
    }
  ]
}